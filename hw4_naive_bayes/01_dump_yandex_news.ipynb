{
 "cells": [
  {
   "cell_type": "code",
   "execution_count": 1,
   "metadata": {},
   "outputs": [],
   "source": [
    "import requests\n",
    "\n",
    "from bs4 import BeautifulSoup"
   ]
  },
  {
   "cell_type": "code",
   "execution_count": 2,
   "metadata": {},
   "outputs": [
    {
     "data": {
      "text/plain": [
       "['https://news.yandex.ru/story/Putin_reshenie_SSHA_o_vykhode_iz_DRSMD_ne_ostanetsya_bez_otveta--0eccc17d30741977028a7111240eec69?lr=213&lang=ru&stid=rgyFA-wa4oKjC1CrEd-1&rubric=politics&from=rubric',\n",
       " 'https://news.yandex.ru/story/Ne_v_brov_a_v_gaz_Turciya_stanovitsya_khabom_dlya_rossijskogo_topliva--9d8b2db8ca20e33f05987babdbe95dd6?lr=213&lang=ru&stid=x2bMX0C26xYABi0MJTau&rubric=politics&from=rubric',\n",
       " 'https://news.yandex.ru/story/Genprokuratura_Magnitskij_mog_byt_otravlen_v_interesakh_Braudera--7b16bb71c5e13422f68aaff39b183f29?lr=213&lang=ru&stid=_fLmSeauQdQYu5FWlbCt&rubric=politics&from=rubric',\n",
       " 'https://news.yandex.ru/story/ES_poobeshhal_prinyat_celevye_mery_v_svyazi_s_situaciej_v_Azovskom_more--9a24f86cd9d584b5ec6a878fefb36696?lr=213&lang=ru&stid=5DWgE_2tbu9Fib62QP_o&rubric=politics&from=rubric',\n",
       " 'https://news.yandex.ru/story/Rogozin_oznakomitsya_s_kosmicheskim_korablem_Ilona_Maska--2b908178e492dc401672e3d3db2ead71?lr=213&lang=ru&stid=e8uK_mkymmVDdichsSLJ&rubric=politics&from=rubric']"
      ]
     },
     "execution_count": 2,
     "metadata": {},
     "output_type": "execute_result"
    }
   ],
   "source": [
    "r = requests.get('https://news.yandex.ru/politics.html')\n",
    "soup = BeautifulSoup(r.text, 'html.parser')\n",
    "\n",
    "urls_politics = soup.find_all('h2', class_='story__title')\n",
    "urls_politics = ['https://news.yandex.ru' + t.find('a', href=True)['href'] for t in urls_politics]\n",
    "urls_politics[:5]"
   ]
  },
  {
   "cell_type": "code",
   "execution_count": 3,
   "metadata": {},
   "outputs": [
    {
     "data": {
      "text/plain": [
       "17"
      ]
     },
     "execution_count": 3,
     "metadata": {},
     "output_type": "execute_result"
    }
   ],
   "source": [
    "len(urls_politics)"
   ]
  },
  {
   "cell_type": "code",
   "execution_count": 4,
   "metadata": {},
   "outputs": [
    {
     "data": {
      "text/plain": [
       "['https://news.yandex.ru/story/Kudryashov_pokinul_raspolozhenie_sbornoj_Rossii--53496ec6135b269b555e111342846c1b?lr=213&lang=ru&stid=-29tzJntsgnOzoMoQOsW&rubric=sport&from=rubric',\n",
       " 'https://news.yandex.ru/story/Avangard_na_vyezde_pereigral_Torpedo--22a1dac57d6dabeb0109147d197bfe7d?lr=213&lang=ru&stid=EGfMYi5XOk343VvL_7Ci&rubric=sport&from=rubric',\n",
       " 'https://news.yandex.ru/story/CSKA_obygral_Slovan_Kaprizov_oformil_khet-trik--cc9f553c4ee46925a65be3fed219f923?lr=213&lang=ru&stid=WWzJVHP6qbGjdkjrgMQE&rubric=sport&from=rubric',\n",
       " 'https://news.yandex.ru/story/Napadayushhij_Kolambusa_EHtkinson_priznan_pervoj_zvezdoj_nedeli_v_NKHL--246f561c2d4ab2d7312e6ed7f0ed2466?lr=213&lang=ru&stid=lzQO-Yghmp1_du8DzpcR&rubric=sport&from=rubric',\n",
       " 'https://news.yandex.ru/story/Luis_Suares_prokommentiroval_problemy_Dembele_v_Barselone--49864cda0c65a20b60b72c3ada94ead7?lr=213&lang=ru&stid=pbUvJTP0KHyxsZ8OQrCV&rubric=sport&from=rubric']"
      ]
     },
     "execution_count": 4,
     "metadata": {},
     "output_type": "execute_result"
    }
   ],
   "source": [
    "r = requests.get('https://news.yandex.ru/sport.html')\n",
    "soup = BeautifulSoup(r.text, 'html.parser')\n",
    "\n",
    "urls_sports = soup.find_all('h2', class_='story__title')\n",
    "urls_sports = ['https://news.yandex.ru' + t.find('a', href=True)['href'] for t in urls_sports]\n",
    "urls_sports[:5]"
   ]
  },
  {
   "cell_type": "code",
   "execution_count": 5,
   "metadata": {},
   "outputs": [
    {
     "data": {
      "text/plain": [
       "17"
      ]
     },
     "execution_count": 5,
     "metadata": {},
     "output_type": "execute_result"
    }
   ],
   "source": [
    "len(urls_sports)"
   ]
  },
  {
   "cell_type": "code",
   "execution_count": 6,
   "metadata": {},
   "outputs": [],
   "source": [
    "import urllib\n",
    "import os\n",
    "\n",
    "def extract_texts(url, dir_):\n",
    "    filename = urllib.parse.urlparse(url).path.split('/')[-1].split('-')[-1]\n",
    "    filename = os.path.join(dir_, filename)\n",
    "    \n",
    "    r = requests.get(url)\n",
    "    soup = BeautifulSoup(r.text, 'html.parser')\n",
    "    elem = soup.select_one('.doc__content')\n",
    "    _ = elem.find(class_='doc__info').extract()\n",
    "    text = elem.text\n",
    "    \n",
    "    with open(filename, mode='w') as f_text:\n",
    "        f_text.write(text)"
   ]
  },
  {
   "cell_type": "code",
   "execution_count": 7,
   "metadata": {},
   "outputs": [],
   "source": [
    "!mkdir -p data/politics data/sports"
   ]
  },
  {
   "cell_type": "code",
   "execution_count": 8,
   "metadata": {},
   "outputs": [],
   "source": [
    "from functools import partial\n",
    "\n",
    "from multiprocessing.pool import ThreadPool\n",
    "\n",
    "with ThreadPool(8) as pool:\n",
    "    extract_texts_politics = partial(extract_texts, dir_='./data/politics/')\n",
    "    r = pool.map(extract_texts_politics, urls_politics)\n",
    "    \n",
    "with ThreadPool(8) as pool:\n",
    "    extract_texts_sports = partial(extract_texts, dir_='./data/sports/')\n",
    "    r = pool.map(extract_texts_sports, urls_sports)"
   ]
  },
  {
   "cell_type": "code",
   "execution_count": null,
   "metadata": {},
   "outputs": [],
   "source": []
  }
 ],
 "metadata": {
  "kernelspec": {
   "display_name": "Python 3",
   "language": "python",
   "name": "python3"
  },
  "language_info": {
   "codemirror_mode": {
    "name": "ipython",
    "version": 3
   },
   "file_extension": ".py",
   "mimetype": "text/x-python",
   "name": "python",
   "nbconvert_exporter": "python",
   "pygments_lexer": "ipython3",
   "version": "3.6.5"
  }
 },
 "nbformat": 4,
 "nbformat_minor": 2
}
