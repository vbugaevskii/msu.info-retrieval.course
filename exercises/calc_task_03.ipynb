{
 "cells": [
  {
   "cell_type": "markdown",
   "metadata": {},
   "source": [
    "## Задача 2"
   ]
  },
  {
   "cell_type": "markdown",
   "metadata": {},
   "source": [
    "При разметке релевантных документов эксперты использовали шкалу от 0 (нерелевантные документы) до 4 баллов.\n",
    "\n",
    "При тестировании систем выяснилось, что системы выдали следующие результаты поиска ответов на запрос:\n",
    "* система 1: 4, 2, 3, 1, 2, 0 (и далее 0);\n",
    "* система 2: 3, 2, 4, 4, 4, 0 (и далее 0).\n",
    "\n",
    "Какая система ищет лучше по мере NDCG?"
   ]
  },
  {
   "cell_type": "code",
   "execution_count": 1,
   "metadata": {},
   "outputs": [],
   "source": [
    "marks_1 = [4, 2, 3, 1, 2, 0]\n",
    "marks_2 = [3, 2, 4, 4, 4, 0]"
   ]
  },
  {
   "cell_type": "code",
   "execution_count": 2,
   "metadata": {},
   "outputs": [],
   "source": [
    "import numpy as np\n",
    "\n",
    "from functools import partial\n",
    "\n",
    "\n",
    "def DCG_score(r_pred):\n",
    "    score = 0\n",
    "    for pos, rank in enumerate(r_pred, 1):\n",
    "        score += rank / np.log2(pos + 1)\n",
    "    return score\n",
    "\n",
    "def NDCG_score(r_pred, dcg_best):\n",
    "    dcg_curr = DCG_score(r_pred)\n",
    "    return dcg_curr / dcg_best\n",
    "\n",
    "dcg_best = max(\n",
    "    DCG_score(sorted(marks_1, reverse=True)),\n",
    "    DCG_score(sorted(marks_2, reverse=True))\n",
    ")\n",
    "\n",
    "NDCG_score = partial(NDCG_score, dcg_best=dcg_best)"
   ]
  },
  {
   "cell_type": "code",
   "execution_count": 3,
   "metadata": {},
   "outputs": [
    {
     "name": "stdout",
     "output_type": "stream",
     "text": [
      "NDCG для системы 1: 0.7522806607180208\n",
      "NDCG для системы 2: 0.9001386375213553\n"
     ]
    }
   ],
   "source": [
    "print(\"NDCG для системы 1:\", NDCG_score(marks_1))\n",
    "print(\"NDCG для системы 2:\", NDCG_score(marks_2))"
   ]
  },
  {
   "cell_type": "markdown",
   "metadata": {},
   "source": [
    "**Замечание:** для одного запроса идеальный DCG фиксированный. Поэтому сравнить NDCG двух систем можно опираясь только на DCG систем."
   ]
  },
  {
   "cell_type": "code",
   "execution_count": null,
   "metadata": {},
   "outputs": [],
   "source": []
  }
 ],
 "metadata": {
  "kernelspec": {
   "display_name": "Python 3",
   "language": "python",
   "name": "python3"
  },
  "language_info": {
   "codemirror_mode": {
    "name": "ipython",
    "version": 3
   },
   "file_extension": ".py",
   "mimetype": "text/x-python",
   "name": "python",
   "nbconvert_exporter": "python",
   "pygments_lexer": "ipython3",
   "version": "3.6.5"
  }
 },
 "nbformat": 4,
 "nbformat_minor": 2
}
