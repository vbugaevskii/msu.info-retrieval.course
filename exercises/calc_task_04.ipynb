{
 "cells": [
  {
   "cell_type": "code",
   "execution_count": 1,
   "metadata": {},
   "outputs": [],
   "source": [
    "import numpy as np\n",
    "\n",
    "import json"
   ]
  },
  {
   "cell_type": "code",
   "execution_count": 2,
   "metadata": {},
   "outputs": [],
   "source": [
    "def pprint(a):\n",
    "    print(json.dumps(a, sort_keys=False, ensure_ascii=False, indent=4, separators=(',', ': ')))"
   ]
  },
  {
   "attachments": {},
   "cell_type": "markdown",
   "metadata": {},
   "source": [
    "Запрос: отбор кандидатов -> отбор кандидат\n",
    "\n",
    "Релевантные документы:\n",
    "    1. кандидат отобрать претендент\n",
    "    2. отбор выбрать претендент\n",
    "    \n",
    "df:\n",
    "    * отбор       70000;\n",
    "    * кандидат    70000;\n",
    "    * претендент  30000;\n",
    "    * отобрать    50000;\n",
    "    * выбрать     70000;"
   ]
  },
  {
   "cell_type": "code",
   "execution_count": 3,
   "metadata": {},
   "outputs": [],
   "source": [
    "docs = [\n",
    "    \"кандидат отобрать претендент\",\n",
    "    \"отбор выбрать претендент\",\n",
    "]\n",
    "\n",
    "query = \"отбор кандидат\""
   ]
  },
  {
   "cell_type": "code",
   "execution_count": 4,
   "metadata": {},
   "outputs": [],
   "source": [
    "alpha, beta = 0.7, 0.3\n",
    "\n",
    "N = 1_000_000"
   ]
  },
  {
   "cell_type": "code",
   "execution_count": 5,
   "metadata": {},
   "outputs": [],
   "source": [
    "dwords = ['отбор', 'кандидат', 'претендент', 'отобрать', 'выбрать']\n",
    "\n",
    "tf_docs = [\n",
    "    np.asarray([0, 1, 1, 1, 0], dtype=np.float32),\n",
    "    np.asarray([1, 0, 1, 0, 1], dtype=np.float32),\n",
    "]\n",
    "\n",
    "v_query = np.asarray([1, 1, 0, 0, 0], dtype=float)\n",
    "\n",
    "df = np.asarray([70000, 70000, 30000, 50000, 70000])"
   ]
  },
  {
   "cell_type": "code",
   "execution_count": 6,
   "metadata": {},
   "outputs": [],
   "source": [
    "idf = np.log(N / df)"
   ]
  },
  {
   "cell_type": "code",
   "execution_count": 7,
   "metadata": {},
   "outputs": [
    {
     "name": "stdout",
     "output_type": "stream",
     "text": [
      "Вектор документа 1: \"кандидат отобрать претендент\"\n",
      "{\n",
      "    \"отбор\": 0.0,\n",
      "    \"кандидат\": 2.659260036932778,\n",
      "    \"претендент\": 3.506557897319982,\n",
      "    \"отобрать\": 2.995732273553991,\n",
      "    \"выбрать\": 0.0\n",
      "}\n",
      "\n",
      "Вектор документа 2: \"отбор выбрать претендент\"\n",
      "{\n",
      "    \"отбор\": 2.659260036932778,\n",
      "    \"кандидат\": 0.0,\n",
      "    \"претендент\": 3.506557897319982,\n",
      "    \"отобрать\": 0.0,\n",
      "    \"выбрать\": 2.659260036932778\n",
      "}\n",
      "\n"
     ]
    }
   ],
   "source": [
    "v_docs = [d * idf for d in tf_docs]\n",
    "\n",
    "for d_i, d in enumerate(v_docs, 0):\n",
    "    print(\"Вектор документа {}: \\\"{}\\\"\".format(d_i + 1, docs[d_i]))\n",
    "    pprint(dict(zip(dwords, d)))\n",
    "    print()"
   ]
  },
  {
   "cell_type": "code",
   "execution_count": 8,
   "metadata": {},
   "outputs": [],
   "source": [
    "def norm(a):\n",
    "    return np.sqrt(np.power(a, 2).sum())"
   ]
  },
  {
   "cell_type": "code",
   "execution_count": 9,
   "metadata": {},
   "outputs": [
    {
     "name": "stdout",
     "output_type": "stream",
     "text": [
      "Нормализованный вектор документа 1: \"кандидат отобрать претендент\"\n",
      "{\n",
      "    \"отбор\": 0.0,\n",
      "    \"кандидат\": 0.49951136713259214,\n",
      "    \"претендент\": 0.6586665105681685,\n",
      "    \"отобрать\": 0.5627138011114365,\n",
      "    \"выбрать\": 0.0\n",
      "}\n",
      "\n",
      "Нормализованный вектор документа 2: \"отбор выбрать претендент\"\n",
      "{\n",
      "    \"отбор\": 0.5171732176627488,\n",
      "    \"кандидат\": 0.0,\n",
      "    \"претендент\": 0.6819558093195759,\n",
      "    \"отобрать\": 0.0,\n",
      "    \"выбрать\": 0.5171732176627488\n",
      "}\n",
      "\n"
     ]
    }
   ],
   "source": [
    "v_docs_norm = [d / norm(d) for d in v_docs]\n",
    "\n",
    "for d_i, d in enumerate(v_docs_norm, 0):\n",
    "    print(\"Нормализованный вектор документа {}: \\\"{}\\\"\".format(d_i + 1, docs[d_i]))\n",
    "    pprint(dict(zip(dwords, d)))\n",
    "    print()"
   ]
  },
  {
   "cell_type": "code",
   "execution_count": 10,
   "metadata": {},
   "outputs": [
    {
     "name": "stdout",
     "output_type": "stream",
     "text": [
      "Исходный вектор запроса: \"отбор кандидат\"\n",
      "{\n",
      "    \"отбор\": 1.0,\n",
      "    \"кандидат\": 1.0,\n",
      "    \"претендент\": 0.0,\n",
      "    \"отобрать\": 0.0,\n",
      "    \"выбрать\": 0.0\n",
      "}\n",
      "\n",
      "Модифицированный вектор запроса: \"отбор кандидат\"\n",
      "{\n",
      "    \"отбор\": 0.7775759826494123,\n",
      "    \"кандидат\": 0.7749267050698888,\n",
      "    \"претендент\": 0.20109334798316167,\n",
      "    \"отобрать\": 0.08440707016671548,\n",
      "    \"выбрать\": 0.07757598264941232\n",
      "}\n"
     ]
    }
   ],
   "source": [
    "from functools import reduce\n",
    "\n",
    "v_query_m = alpha * v_query + beta * reduce(lambda x, y: x + y, v_docs_norm) / len(v_docs_norm)\n",
    "\n",
    "print(\"Исходный вектор запроса: \\\"{}\\\"\".format(query))\n",
    "pprint(dict(zip(dwords, v_query)))\n",
    "print()\n",
    "\n",
    "print(\"Модифицированный вектор запроса: \\\"{}\\\"\".format(query))\n",
    "pprint(dict(zip(dwords, v_query_m)))"
   ]
  },
  {
   "cell_type": "code",
   "execution_count": null,
   "metadata": {},
   "outputs": [],
   "source": []
  }
 ],
 "metadata": {
  "kernelspec": {
   "display_name": "Python 3",
   "language": "python",
   "name": "python3"
  },
  "language_info": {
   "codemirror_mode": {
    "name": "ipython",
    "version": 3
   },
   "file_extension": ".py",
   "mimetype": "text/x-python",
   "name": "python",
   "nbconvert_exporter": "python",
   "pygments_lexer": "ipython3",
   "version": "3.6.5"
  }
 },
 "nbformat": 4,
 "nbformat_minor": 2
}
