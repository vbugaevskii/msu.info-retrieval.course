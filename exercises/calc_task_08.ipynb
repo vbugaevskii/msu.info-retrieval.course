{
 "cells": [
  {
   "cell_type": "code",
   "execution_count": 1,
   "metadata": {},
   "outputs": [],
   "source": [
    "import numpy as np\n",
    "from operator import itemgetter"
   ]
  },
  {
   "cell_type": "code",
   "execution_count": 2,
   "metadata": {},
   "outputs": [],
   "source": [
    "from sklearn.metrics.pairwise import cosine_similarity"
   ]
  },
  {
   "cell_type": "code",
   "execution_count": 3,
   "metadata": {},
   "outputs": [],
   "source": [
    "def similarity(cls, link=\"single\"):\n",
    "    scores = []\n",
    "    \n",
    "    for i, cl_i in enumerate(cls):\n",
    "        for j, cl_j in enumerate(cls):\n",
    "            if i >= j:\n",
    "                continue\n",
    "\n",
    "            sim = cosine_similarity(cl_i, cl_j)\n",
    "            \n",
    "            if link == 'complete':\n",
    "                sim = sim.min()\n",
    "            elif link == 'single':\n",
    "                sim = sim.max()\n",
    "            else:\n",
    "                raise NotImplemented()\n",
    "\n",
    "            scores.append(((i, j), sim))\n",
    "    \n",
    "    scores.sort(key=itemgetter(1), reverse=True)\n",
    "    return scores"
   ]
  },
  {
   "cell_type": "code",
   "execution_count": 4,
   "metadata": {},
   "outputs": [],
   "source": [
    "def print_sims(sims, limit=3):\n",
    "    for i, (cls, score) in enumerate(sims):\n",
    "        if i >= limit:\n",
    "            break\n",
    "        print(*cls, score, sep='\\t')"
   ]
  },
  {
   "cell_type": "code",
   "execution_count": 5,
   "metadata": {},
   "outputs": [],
   "source": [
    "def merge(cls, link='single'):\n",
    "    i = 0\n",
    "    while len(cls) > 1:\n",
    "        i += 1\n",
    "        pair, score = similarity(cls, link)[0]\n",
    "        print(i, *pair, score, sep='\\t')\n",
    "        cls[pair[0]].extend(cls[pair[1]])\n",
    "        del cls[pair[1]]"
   ]
  },
  {
   "cell_type": "code",
   "execution_count": 6,
   "metadata": {},
   "outputs": [],
   "source": [
    "a = np.asarray([0.6, 1.9])\n",
    "b = np.asarray([1.8, 1.6])\n",
    "c = np.asarray([2.7, 2.0])\n",
    "d = np.asarray([3.0, 2.1])\n",
    "e = np.asarray([3.0, 2.6])\n",
    "f = np.asarray([3.1, 4.5])\n",
    "g = np.asarray([3.8, 0.6])\n",
    "h = np.asarray([4.2, 2.7])"
   ]
  },
  {
   "cell_type": "code",
   "execution_count": 7,
   "metadata": {},
   "outputs": [
    {
     "name": "stdout",
     "output_type": "stream",
     "text": [
      "1\t1\t4\t0.9999212291748408\n",
      "2\t2\t3\t0.9996402893621831\n",
      "3\t2\t5\t0.9978088313354032\n",
      "4\t1\t2\t0.9879644204140065\n",
      "5\t0\t2\t0.9561159747598555\n",
      "6\t1\t2\t0.8418791389638738\n",
      "7\t0\t1\t0.44616961942071937\n"
     ]
    }
   ],
   "source": [
    "cluster = [[a], [b], [c], [d], [e], [f], [g], [h]]\n",
    "merge(cluster, 'complete')"
   ]
  },
  {
   "cell_type": "markdown",
   "metadata": {},
   "source": [
    "```\n",
    "iter 0: [[a], [b], [c], [d], [e], [f], [g], [h]]\n",
    "iter 1: [[a], [b, e], [c], [d], [f], [g], [h]]\n",
    "iter 2: [[a], [b, e], [c, d], [f], [g], [h]]\n",
    "iter 3: [[a], [b, e], [c, d, h], [f], [g]]\n",
    "iter 4: [[a], [b, e, c, d, h], [f], [g]]\n",
    "iter 5: [[a, f], [b, e, c, d, h], [g]]\n",
    "iter 6: [[a, f], [b, e, c, d, h, g]]\n",
    "iter 7: [[a, f, b, e, c, d, h, g]]\n",
    "```"
   ]
  },
  {
   "cell_type": "code",
   "execution_count": 8,
   "metadata": {},
   "outputs": [
    {
     "name": "stdout",
     "output_type": "stream",
     "text": [
      "1\t1\t4\t0.9999212291748408\n",
      "2\t2\t3\t0.9996402893621831\n",
      "3\t2\t5\t0.9992243739289179\n",
      "4\t1\t2\t0.9970720986202984\n",
      "5\t1\t2\t0.9711178912251817\n",
      "6\t0\t1\t0.9561159747598555\n",
      "7\t0\t1\t0.9152228907752498\n"
     ]
    }
   ],
   "source": [
    "cluster = [[a], [b], [c], [d], [e], [f], [g], [h]]\n",
    "merge(cluster, 'single')"
   ]
  },
  {
   "cell_type": "markdown",
   "metadata": {},
   "source": [
    "```\n",
    "iter 0: [[a], [b], [c], [d], [e], [f], [g], [h]]\n",
    "iter 1: [[a], [b, e], [c], [d], [f], [g], [h]]\n",
    "iter 2: [[a], [b, e], [c, d], [f], [g], [h]]\n",
    "iter 3: [[a], [b, e], [c, d, h], [f], [g]]\n",
    "iter 4: [[a], [b, e, c, d, h], [f], [g]]\n",
    "iter 5: [[a], [b, e, c, d, h, f], [g]]\n",
    "iter 6: [[a, b, e, c, d, h, f], [g]]\n",
    "iter 7: [[a, b, e, c, d, h, f, g]]\n",
    "```"
   ]
  },
  {
   "cell_type": "code",
   "execution_count": null,
   "metadata": {},
   "outputs": [],
   "source": []
  }
 ],
 "metadata": {
  "kernelspec": {
   "display_name": "Python 3",
   "language": "python",
   "name": "python3"
  },
  "language_info": {
   "codemirror_mode": {
    "name": "ipython",
    "version": 3
   },
   "file_extension": ".py",
   "mimetype": "text/x-python",
   "name": "python",
   "nbconvert_exporter": "python",
   "pygments_lexer": "ipython3",
   "version": "3.6.5"
  }
 },
 "nbformat": 4,
 "nbformat_minor": 2
}
