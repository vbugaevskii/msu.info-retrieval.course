{
 "cells": [
  {
   "cell_type": "code",
   "execution_count": 1,
   "metadata": {},
   "outputs": [],
   "source": [
    "import re\n",
    "\n",
    "from functools import lru_cache\n",
    "\n",
    "from pymorphy2 import MorphAnalyzer\n",
    "from nltk.stem import WordNetLemmatizer\n",
    "\n",
    "ru_morph = MorphAnalyzer()\n",
    "en_morph = WordNetLemmatizer()\n",
    "\n",
    "CYRILLIC_PATTERN = re.compile('[а-яА-Я]')\n",
    "DIGIT_PATTERN = re.compile('\\d+')\n",
    "\n",
    "def has_cyrillic(text):\n",
    "    return bool(CYRILLIC_PATTERN.search(text))\n",
    "\n",
    "def has_numeric(text):\n",
    "    return bool(DIGIT_PATTERN.search(text))\n",
    "\n",
    "@lru_cache(maxsize=1500)\n",
    "def morph_process(token):\n",
    "    if has_cyrillic(token):\n",
    "        return ru_morph.parse(token)[0].normal_form\n",
    "    elif has_numeric(token):\n",
    "        return token\n",
    "    else:\n",
    "        return en_morph.lemmatize(token)\n",
    "    \n",
    "def morph_sentence(sentence):\n",
    "    res = re.findall('\\d+', sentence.lower())\n",
    "    words = re.findall('[^\\W\\d_]+', sentence.lower())\n",
    "    res.extend(map(morph_process, words))\n",
    "    return res"
   ]
  },
  {
   "cell_type": "code",
   "execution_count": 2,
   "metadata": {},
   "outputs": [],
   "source": [
    "s_expert = '\"Русгидро\", \"Росгеология\", \"Транснефть\" получат предложения перенести свои главные офисы на Дальний Восток'\n",
    "s_system_1 = 'Компаниям «Русгидро», «Транснефть» и «Росгеология» предложили подумать о переезде на Дальний Восток.'\n",
    "s_system_2 = 'По словам вице-премьера по Дальнему Востоку переезд может как-то затронуть \"РусГидро\", \"Транснефть\" и \"Росгеологию\"'"
   ]
  },
  {
   "cell_type": "code",
   "execution_count": 3,
   "metadata": {},
   "outputs": [],
   "source": [
    "s_expert = morph_sentence(s_expert)\n",
    "s_system_1 =  morph_sentence(s_system_1)\n",
    "s_system_2 =  morph_sentence(s_system_2)"
   ]
  },
  {
   "cell_type": "code",
   "execution_count": 4,
   "metadata": {},
   "outputs": [
    {
     "data": {
      "text/plain": [
       "(0.5, 0.4166666666666667)"
      ]
     },
     "execution_count": 4,
     "metadata": {},
     "output_type": "execute_result"
    }
   ],
   "source": [
    "s_expert_ = set(s_expert)\n",
    "s_system_1_ = set(s_system_1)\n",
    "s_system_2_ = set(s_system_2)\n",
    "\n",
    "rouge1_1 = len(s_expert_ & s_system_1_) / len(s_expert_)\n",
    "rouge1_2 = len(s_expert_ & s_system_2_) / len(s_expert_)\n",
    "rouge1_1, rouge1_2"
   ]
  },
  {
   "cell_type": "code",
   "execution_count": 5,
   "metadata": {},
   "outputs": [
    {
     "data": {
      "text/plain": [
       "(0.18181818181818182, 0.09090909090909091)"
      ]
     },
     "execution_count": 5,
     "metadata": {},
     "output_type": "execute_result"
    }
   ],
   "source": [
    "s_expert_ = set(zip(s_expert[:-1], s_expert[1:]))\n",
    "s_system_1_ = set(zip(s_system_1[:-1], s_system_1[1:]))\n",
    "s_system_2_ = set(zip(s_system_2[:-1], s_system_2[1:]))\n",
    "\n",
    "rouge2_1 = len(s_expert_ & s_system_1_) / len(s_expert_)\n",
    "rouge2_2 = len(s_expert_ & s_system_2_) / len(s_expert_)\n",
    "rouge2_1, rouge2_2"
   ]
  },
  {
   "cell_type": "code",
   "execution_count": null,
   "metadata": {},
   "outputs": [],
   "source": []
  }
 ],
 "metadata": {
  "kernelspec": {
   "display_name": "Python 3",
   "language": "python",
   "name": "python3"
  },
  "language_info": {
   "codemirror_mode": {
    "name": "ipython",
    "version": 3
   },
   "file_extension": ".py",
   "mimetype": "text/x-python",
   "name": "python",
   "nbconvert_exporter": "python",
   "pygments_lexer": "ipython3",
   "version": "3.6.5"
  }
 },
 "nbformat": 4,
 "nbformat_minor": 2
}
