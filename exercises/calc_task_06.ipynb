{
 "cells": [
  {
   "cell_type": "markdown",
   "metadata": {},
   "source": [
    "### PageRank"
   ]
  },
  {
   "cell_type": "code",
   "execution_count": 1,
   "metadata": {},
   "outputs": [],
   "source": [
    "import numpy as np"
   ]
  },
  {
   "cell_type": "code",
   "execution_count": 2,
   "metadata": {},
   "outputs": [],
   "source": [
    "N = 3\n",
    "\n",
    "ranks = np.array([1.0 / N for _ in range(N)])\n",
    "trainsition = np.asarray(\n",
    "    [[0, 1/2., 1/2.],\n",
    "     [0,    0,    1],\n",
    "     [0,    1,    0]]\n",
    ")\n",
    "teleport = 1.0 / N"
   ]
  },
  {
   "cell_type": "code",
   "execution_count": 3,
   "metadata": {},
   "outputs": [
    {
     "name": "stdout",
     "output_type": "stream",
     "text": [
      "[[0.03333333 0.48333333 0.48333333]\n",
      " [0.03333333 0.03333333 0.93333333]\n",
      " [0.03333333 0.93333333 0.03333333]]\n"
     ]
    }
   ],
   "source": [
    "P = 0.9 * trainsition + 0.1 * teleport\n",
    "print(P)"
   ]
  },
  {
   "cell_type": "code",
   "execution_count": 4,
   "metadata": {},
   "outputs": [
    {
     "name": "stdout",
     "output_type": "stream",
     "text": [
      "[0.03333333 0.48333333 0.48333333]\n"
     ]
    }
   ],
   "source": [
    "for i in range(3):\n",
    "    ranks = np.dot(ranks, P)\n",
    "print(ranks)"
   ]
  },
  {
   "cell_type": "code",
   "execution_count": null,
   "metadata": {},
   "outputs": [],
   "source": []
  }
 ],
 "metadata": {
  "kernelspec": {
   "display_name": "Python 3",
   "language": "python",
   "name": "python3"
  },
  "language_info": {
   "codemirror_mode": {
    "name": "ipython",
    "version": 3
   },
   "file_extension": ".py",
   "mimetype": "text/x-python",
   "name": "python",
   "nbconvert_exporter": "python",
   "pygments_lexer": "ipython3",
   "version": "3.6.5"
  }
 },
 "nbformat": 4,
 "nbformat_minor": 2
}
