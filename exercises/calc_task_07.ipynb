{
 "cells": [
  {
   "cell_type": "markdown",
   "metadata": {},
   "source": [
    "## Задача 1"
   ]
  },
  {
   "cell_type": "markdown",
   "metadata": {},
   "source": [
    "Система рубрикации должна классифицировать поток документов по двум рубрикам.\n",
    "\n",
    "Эксперт отнес к первой рубрике 75 документов, ко второй рубрике – 50 документов.\n",
    "Система отнесла:\n",
    "- к первой рубрике 100 документов, из них 50 правильно.\n",
    "- ко второй рубрике 40 документов, из них 30 правильно.\n",
    "\n",
    "Найти макро-характеристики качества классификации (точность, полноту, F-меру) - и микро- характеристики (точность, полноту, F-меру)."
   ]
  },
  {
   "cell_type": "code",
   "execution_count": 1,
   "metadata": {},
   "outputs": [],
   "source": [
    "R1 = { 'TP': 50, 'FP': 50, 'FN': 25 }\n",
    "R2 = { 'TP': 30, 'FP': 10, 'FN': 20 }"
   ]
  },
  {
   "cell_type": "code",
   "execution_count": 2,
   "metadata": {},
   "outputs": [
    {
     "data": {
      "text/plain": [
       "{'TP': 80, 'FP': 60, 'FN': 45}"
      ]
     },
     "execution_count": 2,
     "metadata": {},
     "output_type": "execute_result"
    }
   ],
   "source": [
    "R = { k: R1[k] + R2[k] for k in ['TP', 'FP', 'FN'] }\n",
    "R"
   ]
  },
  {
   "cell_type": "code",
   "execution_count": 3,
   "metadata": {},
   "outputs": [],
   "source": [
    "precision1 = R1['TP'] / (R1['TP'] + R1['FP'])\n",
    "precision2 = R2['TP'] / (R2['TP'] + R2['FP'])"
   ]
  },
  {
   "cell_type": "code",
   "execution_count": 4,
   "metadata": {},
   "outputs": [],
   "source": [
    "recall1 = R1['TP'] / (R1['TP'] + R1['FN'])\n",
    "recall2 = R2['TP'] / (R2['TP'] + R2['FN'])"
   ]
  },
  {
   "cell_type": "code",
   "execution_count": 5,
   "metadata": {},
   "outputs": [],
   "source": [
    "fmeasure1 = 2 * precision1 * recall1 / (precision1 + recall1)\n",
    "fmeasure2 = 2 * precision2 * recall2 / (precision2 + recall2)"
   ]
  },
  {
   "cell_type": "code",
   "execution_count": 6,
   "metadata": {},
   "outputs": [],
   "source": [
    "macro_P = (precision1 + precision2) / 2. \n",
    "macro_R = (recall1 + recall2) / 2. \n",
    "macro_F1 = (fmeasure1 + fmeasure2) / 2. "
   ]
  },
  {
   "cell_type": "code",
   "execution_count": 7,
   "metadata": {},
   "outputs": [
    {
     "name": "stdout",
     "output_type": "stream",
     "text": [
      "Макро-характеристики:\n",
      "Точность: 0.625\n",
      "Полнота: 0.6333333333333333\n",
      "F1: 0.6190476190476191\n"
     ]
    }
   ],
   "source": [
    "print(\"Макро-характеристики:\")\n",
    "print(\"Точность:\", macro_P)\n",
    "print(\"Полнота:\", macro_R)\n",
    "print(\"F1:\", macro_F1)"
   ]
  },
  {
   "cell_type": "code",
   "execution_count": 8,
   "metadata": {},
   "outputs": [],
   "source": [
    "micro_P = R['TP'] / (R['TP'] + R['FP'])\n",
    "micro_R = R['TP'] / (R['TP'] + R['FN'])\n",
    "micro_F1 = (2 * micro_P * micro_R) / (micro_P + micro_R)"
   ]
  },
  {
   "cell_type": "code",
   "execution_count": 9,
   "metadata": {},
   "outputs": [
    {
     "name": "stdout",
     "output_type": "stream",
     "text": [
      "Микро-характеристики:\n",
      "Точность: 0.5714285714285714\n",
      "Полнота: 0.64\n",
      "F1: 0.6037735849056605\n"
     ]
    }
   ],
   "source": [
    "print(\"Микро-характеристики:\")\n",
    "print(\"Точность:\", micro_P)\n",
    "print(\"Полнота:\", micro_R)\n",
    "print(\"F1:\", micro_F1)"
   ]
  },
  {
   "cell_type": "markdown",
   "metadata": {},
   "source": [
    "## Задача 2"
   ]
  },
  {
   "cell_type": "markdown",
   "metadata": {},
   "source": [
    "Даны документы и их классы С1 и С2:\n",
    "- D1 = (X1, X2, X3); C1\n",
    "- D2 = (X1, X2, X4); C1\n",
    "- D3 = (X4, X5, X6); C2\n",
    "\n",
    "Определить класс документа на основе метода наивного Байеса D4 (X1, X4, X5)"
   ]
  },
  {
   "cell_type": "markdown",
   "metadata": {},
   "source": [
    "```\n",
    "P(X1|C1) = (2 + 1) / (6 + 6) = 3. / 12\n",
    "P(X4|C1) = (1 + 1) / (6 + 6) = 1. / 6\n",
    "P(X5|C1) = (0 + 1) / (6 + 6) = 1. / 12\n",
    "\n",
    "P(X1|C2) = (0 + 1) / (3 + 6) = 1. / 9\n",
    "P(X4|C2) = (1 + 1) / (3 + 6) = 2. / 9\n",
    "P(X5|C2) = (1 + 1) / (3 + 6) = 2. / 9\n",
    "\n",
    "P(D4|C1) = P(X1|C1) * P(X4|C1) * P(X5|C1) = 0.003472222\n",
    "P(C1|D4) ~ P(D4|C1) * P(C1) = 0.003472222 * 2/3 = 0.002314815\n",
    "\n",
    "P(D4|C2) = P(X1|C2) * P(X4|C2) * P(X5|C1) = 0.005486968\n",
    "P(C2|D4) ~ P(D4|C2) * P(C2) = 0.005486968 * 1/3 = 0.001828989\n",
    "\n",
    "Ответ: P(C1|D4) > P(C2|D4), значит документ 4 принадлежит классу 1\n",
    "```"
   ]
  },
  {
   "cell_type": "code",
   "execution_count": null,
   "metadata": {},
   "outputs": [],
   "source": []
  }
 ],
 "metadata": {
  "kernelspec": {
   "display_name": "Python 3",
   "language": "python",
   "name": "python3"
  },
  "language_info": {
   "codemirror_mode": {
    "name": "ipython",
    "version": 3
   },
   "file_extension": ".py",
   "mimetype": "text/x-python",
   "name": "python",
   "nbconvert_exporter": "python",
   "pygments_lexer": "ipython3",
   "version": "3.6.5"
  }
 },
 "nbformat": 4,
 "nbformat_minor": 2
}
