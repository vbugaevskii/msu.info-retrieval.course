{
 "cells": [
  {
   "cell_type": "code",
   "execution_count": 1,
   "metadata": {},
   "outputs": [],
   "source": [
    "import numpy as np"
   ]
  },
  {
   "cell_type": "markdown",
   "metadata": {},
   "source": [
    "<table cellspacing=\"0\" border=\"0\">\n",
    "    <colgroup span=\"6\" width=\"85\"></colgroup>\n",
    "\t<tbody>\n",
    "    <tr>\n",
    "\t\t<td align=\"center\" valign=\"middle\"><b>terms</b></td>\n",
    "\t\t<td align=\"center\" valign=\"middle\"><b>df</b></td>\n",
    "\t\t<td align=\"center\" valign=\"middle\"><b>idf</b></td>\n",
    "        <td align=\"center\" valign=\"middle\"><b>d1</b></td>\n",
    "\t\t<td align=\"center\" valign=\"middle\"><b>d2</b></td>\n",
    "\t\t<td align=\"center\" valign=\"middle\"><b>d3</b></td>\n",
    "    </tr>\n",
    "\t<tr>\n",
    "\t\t<td height=\"17\" align=\"left\" valign=\"middle\"><b>car</b></td>\n",
    "\t\t<td align=\"right\" sdval=\"18165\">18165</td>\n",
    "\t\t<td align=\"right\" sdval=\"1,65\">1,65</td>\n",
    "\t\t<td align=\"right\" sdval=\"27\">27</td>\n",
    "\t\t<td align=\"right\" sdval=\"4\">4</td>\n",
    "\t\t<td align=\"right\" sdval=\"24\">24</td>\n",
    "\t</tr>\n",
    "\t<tr>\n",
    "\t\t<td height=\"17\" align=\"left\" valign=\"middle\"><b>auto</b></td>\n",
    "\t\t<td align=\"right\" sdval=\"6723\">6723</td>\n",
    "\t\t<td align=\"right\" sdval=\"2,08\">2,08</td>\n",
    "\t\t<td align=\"right\" sdval=\"3\">3</td>\n",
    "\t\t<td align=\"right\" sdval=\"33\">33</td>\n",
    "\t\t<td align=\"right\" sdval=\"0\">0</td>\n",
    "\t</tr>\n",
    "\t<tr>\n",
    "\t\t<td height=\"17\" align=\"left\" valign=\"middle\"><b>insurance</b></td>\n",
    "\t\t<td align=\"right\" sdval=\"19241\">19241</td>\n",
    "\t\t<td align=\"right\" sdval=\"1,62\">1,62</td>\n",
    "\t\t<td align=\"right\" sdval=\"0\">0</td>\n",
    "\t\t<td align=\"right\" sdval=\"33\">33</td>\n",
    "\t\t<td align=\"right\" sdval=\"29\">29</td>\n",
    "\t</tr>\n",
    "\t<tr>\n",
    "\t\t<td height=\"17\" align=\"left\" valign=\"middle\"><b>best</b></td>\n",
    "\t\t<td align=\"right\" sdval=\"25235\">25235</td>\n",
    "\t\t<td align=\"right\" sdval=\"1,5\">1,5</td>\n",
    "\t\t<td align=\"right\" sdval=\"14\">14</td>\n",
    "\t\t<td align=\"right\" sdval=\"0\">0</td>\n",
    "\t\t<td align=\"right\" sdval=\"17\">17</td>\n",
    "\t</tr>\n",
    "    </tbody>\n",
    "</table>"
   ]
  },
  {
   "cell_type": "markdown",
   "metadata": {},
   "source": [
    "Запрос: \"сar insurance\""
   ]
  },
  {
   "cell_type": "code",
   "execution_count": 2,
   "metadata": {},
   "outputs": [],
   "source": [
    "idf = np.asarray([1.65, 2.08, 1.62, 1.5])\n",
    "\n",
    "query = np.asarray([1, 0, 1, 0])\n",
    "docs = [\n",
    "    np.asarray([27, 3, 0, 14]),\n",
    "    np.asarray([4, 33, 33, 0]),\n",
    "    np.asarray([24, 0, 29, 17])\n",
    "]"
   ]
  },
  {
   "cell_type": "code",
   "execution_count": 3,
   "metadata": {},
   "outputs": [
    {
     "name": "stdout",
     "output_type": "stream",
     "text": [
      "Вектор tf запроса: [1 0 1 0]\n"
     ]
    }
   ],
   "source": [
    "print(f\"Вектор tf запроса:\", query)"
   ]
  },
  {
   "cell_type": "code",
   "execution_count": 4,
   "metadata": {},
   "outputs": [
    {
     "name": "stdout",
     "output_type": "stream",
     "text": [
      "Вектор tf документа 1: [27  3  0 14]\n",
      "Вектор tf документа 2: [ 4 33 33  0]\n",
      "Вектор tf документа 3: [24  0 29 17]\n"
     ]
    }
   ],
   "source": [
    "for di, d in enumerate(docs, 1):\n",
    "    print(f\"Вектор tf документа {di}:\", d)"
   ]
  },
  {
   "cell_type": "code",
   "execution_count": 5,
   "metadata": {},
   "outputs": [],
   "source": [
    "def norm(d):\n",
    "    return np.sqrt(np.power(d, 2).sum())"
   ]
  },
  {
   "cell_type": "code",
   "execution_count": 6,
   "metadata": {},
   "outputs": [],
   "source": [
    "docs = [d / norm(d) for d in docs]"
   ]
  },
  {
   "cell_type": "code",
   "execution_count": 7,
   "metadata": {},
   "outputs": [
    {
     "name": "stdout",
     "output_type": "stream",
     "text": [
      "Нормализованный вектор tf документа 1: [0.88346699 0.098163   0.         0.45809399]\n",
      "Нормализованный вектор tf документа 2: [0.08539682 0.70452373 0.70452373 0.        ]\n",
      "Нормализованный вектор tf документа 3: [0.581061   0.         0.70211538 0.41158488]\n"
     ]
    }
   ],
   "source": [
    "for di, d in enumerate(docs, 1):\n",
    "    print(f\"Нормализованный вектор tf документа {di}:\", d)"
   ]
  },
  {
   "cell_type": "code",
   "execution_count": 8,
   "metadata": {},
   "outputs": [],
   "source": [
    "query = query * idf\n",
    "docs = [d * idf for d in docs]"
   ]
  },
  {
   "cell_type": "code",
   "execution_count": 9,
   "metadata": {},
   "outputs": [
    {
     "name": "stdout",
     "output_type": "stream",
     "text": [
      "Вектор tf-idf запроса: [1.65 0.   1.62 0.  ]\n"
     ]
    }
   ],
   "source": [
    "print(f\"Вектор tf-idf запроса:\", query)"
   ]
  },
  {
   "cell_type": "code",
   "execution_count": 10,
   "metadata": {},
   "outputs": [
    {
     "name": "stdout",
     "output_type": "stream",
     "text": [
      "Вектор tf-idf документа 1: [1.45772053 0.20417904 0.         0.68714099]\n",
      "Вектор tf-idf документа 2: [0.14090475 1.46540937 1.14132845 0.        ]\n",
      "Вектор tf-idf документа 3: [0.95875065 0.         1.13742691 0.61737731]\n"
     ]
    }
   ],
   "source": [
    "for di, d in enumerate(docs, 1):\n",
    "    print(f\"Вектор tf-idf документа {di}:\", d)"
   ]
  },
  {
   "cell_type": "code",
   "execution_count": 11,
   "metadata": {},
   "outputs": [],
   "source": [
    "def cosine(a, b):\n",
    "    return (a * b).sum() / norm(a) / norm(b)"
   ]
  },
  {
   "cell_type": "code",
   "execution_count": 12,
   "metadata": {},
   "outputs": [],
   "source": [
    "ranks = [cosine(d, query) for d in docs]"
   ]
  },
  {
   "cell_type": "code",
   "execution_count": 13,
   "metadata": {
    "scrolled": true
   },
   "outputs": [
    {
     "name": "stdout",
     "output_type": "stream",
     "text": [
      "Ранк документа 1: 0.6403300253625412\n",
      "Ранк документа 2: 0.48323104205732087\n",
      "Ранк документа 3: 0.9195214992872568\n"
     ]
    }
   ],
   "source": [
    "for di, r in enumerate(ranks, 1):\n",
    "    print(f\"Ранк документа {di}:\", r)"
   ]
  },
  {
   "cell_type": "code",
   "execution_count": 14,
   "metadata": {},
   "outputs": [
    {
     "name": "stdout",
     "output_type": "stream",
     "text": [
      "Документы упорядочены в следующем порядке: 3 1 2\n"
     ]
    }
   ],
   "source": [
    "from operator import itemgetter\n",
    "\n",
    "order = sorted(enumerate(ranks, 1), key=itemgetter(1), reverse=True)\n",
    "order = map(itemgetter(0), order)\n",
    "\n",
    "print(\"Документы упорядочены в следующем порядке:\", *order)"
   ]
  },
  {
   "cell_type": "markdown",
   "metadata": {},
   "source": [
    "**Замечание:** на самом деле предполагалось, что веса (ранки) для документов нужно считать так: dot(d, q) / norm(d)."
   ]
  },
  {
   "cell_type": "code",
   "execution_count": null,
   "metadata": {},
   "outputs": [],
   "source": []
  }
 ],
 "metadata": {
  "kernelspec": {
   "display_name": "Python 3",
   "language": "python",
   "name": "python3"
  },
  "language_info": {
   "codemirror_mode": {
    "name": "ipython",
    "version": 3
   },
   "file_extension": ".py",
   "mimetype": "text/x-python",
   "name": "python",
   "nbconvert_exporter": "python",
   "pygments_lexer": "ipython3",
   "version": "3.6.5"
  }
 },
 "nbformat": 4,
 "nbformat_minor": 2
}
